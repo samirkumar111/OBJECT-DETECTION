{
 "cells": [
  {
   "cell_type": "code",
   "execution_count": 70,
   "metadata": {},
   "outputs": [],
   "source": [
    "from sklearn.model_selection import train_test_split\n",
    "from sklearn.neighbors import KNeighborsClassifier\n",
    "from sklearn.metrics import classification_report, confusion_matrix\n",
    "from sklearn import datasets\n",
    "from sklearn.neighbors import kneighbors_graph\n",
    "import pandas as pd\n",
    "import numpy as np\n"
   ]
  },
  {
   "cell_type": "code",
   "execution_count": 71,
   "metadata": {},
   "outputs": [
    {
     "name": "stdout",
     "output_type": "stream",
     "text": [
      "x_test\n",
      "[[0.15845, 0.828234]]\n",
      "   height  weight age\n",
      "0    5.00      45  77\n",
      "1    5.11      26  47\n",
      "2    5.60      30  55\n",
      "3    5.90      34  59\n",
      "4    4.80      40  72\n",
      "5    5.80      36  60\n",
      "6    5.30      19  40\n",
      "7    5.80      28  60\n",
      "8    5.50      23  45\n",
      "9    5.60      32  58\n"
     ]
    }
   ],
   "source": [
    "df = pd.read_csv('data.csv')\n",
    "df = df.replace('?',np.nan)\n",
    "df = df.drop(df.columns[0],axis = 1)\n",
    "x_test=[[ 0.158450 , 0.828234]]\n",
    "print(\"x_test\")\n",
    "print(x_test)\n",
    "df = df.drop(10,axis = 0)\n",
    "print(df)"
   ]
  },
  {
   "cell_type": "code",
   "execution_count": 72,
   "metadata": {},
   "outputs": [
    {
     "name": "stdout",
     "output_type": "stream",
     "text": [
      "     height    weight\n",
      "0 -1.243715  1.840460\n",
      "1 -0.933491 -0.712003\n",
      "2  0.448414 -0.174642\n",
      "3  1.294479  0.362718\n",
      "4 -1.807758  1.168760\n",
      "5  1.012457  0.631399\n",
      "6 -0.397650 -1.652384\n",
      "7  1.012457 -0.443323\n",
      "8  0.166393 -1.115023\n",
      "9  0.448414  0.094038\n"
     ]
    }
   ],
   "source": [
    "from sklearn.preprocessing import StandardScaler\n",
    "scaler = StandardScaler()\n",
    "  \n",
    "scaler.fit(df.drop('age', axis = 1))\n",
    "scaled_features = scaler.transform(df.drop('age', axis = 1))\n",
    "  \n",
    "df_feat = pd.DataFrame(scaled_features, columns = df.columns[:-1])\n",
    "print(df_feat)"
   ]
  },
  {
   "cell_type": "code",
   "execution_count": 73,
   "metadata": {},
   "outputs": [
    {
     "name": "stdout",
     "output_type": "stream",
     "text": [
      "[[-1.80775803  1.16875956]\n",
      " [ 0.44841424 -0.17464223]\n",
      " [ 1.29447884  0.36271849]\n",
      " [ 0.1663927  -1.11502349]\n",
      " [-0.93349127 -0.71200295]\n",
      " [-1.24371496  1.84046046]\n",
      " [ 1.0124573   0.63139884]\n",
      " [ 0.44841424  0.09403813]\n",
      " [-0.39765036 -1.65238421]]\n",
      "4    72\n",
      "2    55\n",
      "3    59\n",
      "8    45\n",
      "1    47\n",
      "0    77\n",
      "5    60\n",
      "9    58\n",
      "6    40\n",
      "Name: age, dtype: object\n",
      "[[ 1.0124573  -0.44332259]]\n"
     ]
    }
   ],
   "source": [
    "X, x_test, Y, y_test = train_test_split(scaled_features,df['age'],test_size=0.01)\n",
    "print(X)\n",
    "print(Y)\n",
    "print(x_test)\n",
    "# print(y_test)"
   ]
  },
  {
   "cell_type": "code",
   "execution_count": 84,
   "metadata": {},
   "outputs": [],
   "source": [
    "classier = KNeighborsClassifier(n_neighbors=5)\n",
    "classier.fit(X,Y)\n",
    "A=kneighbors_graph(X, n_neighbors=5, mode='distance')"
   ]
  },
  {
   "cell_type": "code",
   "execution_count": 65,
   "metadata": {},
   "outputs": [],
   "source": [
    "y_pred=classier.predict(x_test)"
   ]
  },
  {
   "cell_type": "code",
   "execution_count": 67,
   "metadata": {},
   "outputs": [
    {
     "name": "stdout",
     "output_type": "stream",
     "text": [
      "['60']\n"
     ]
    }
   ],
   "source": [
    "print(y_pred)"
   ]
  }
 ],
 "metadata": {
  "kernelspec": {
   "display_name": "Python 3",
   "language": "python",
   "name": "python3"
  },
  "language_info": {
   "codemirror_mode": {
    "name": "ipython",
    "version": 3
   },
   "file_extension": ".py",
   "mimetype": "text/x-python",
   "name": "python",
   "nbconvert_exporter": "python",
   "pygments_lexer": "ipython3",
   "version": "3.7.4"
  }
 },
 "nbformat": 4,
 "nbformat_minor": 2
}
